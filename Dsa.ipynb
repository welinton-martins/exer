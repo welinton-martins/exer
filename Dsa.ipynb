{
  "nbformat": 4,
  "nbformat_minor": 0,
  "metadata": {
    "colab": {
      "provenance": [],
      "authorship_tag": "ABX9TyM29JE6wIbv6Ncv4b8bg9eh",
      "include_colab_link": true
    },
    "kernelspec": {
      "name": "python3",
      "display_name": "Python 3"
    },
    "language_info": {
      "name": "python"
    }
  },
  "cells": [
    {
      "cell_type": "markdown",
      "metadata": {
        "id": "view-in-github",
        "colab_type": "text"
      },
      "source": [
        "<a href=\"https://colab.research.google.com/github/welinton-martins/python/blob/main/Dsa.ipynb\" target=\"_parent\"><img src=\"https://colab.research.google.com/assets/colab-badge.svg\" alt=\"Open In Colab\"/></a>"
      ]
    },
    {
      "cell_type": "code",
      "execution_count": null,
      "metadata": {
        "colab": {
          "base_uri": "https://localhost:8080/"
        },
        "id": "K5ykf1fF_LVv",
        "outputId": "9872481e-22a8-4917-f02d-78d51fae76d8"
      },
      "outputs": [
        {
          "output_type": "stream",
          "name": "stdout",
          "text": [
            "0\n",
            "1\n",
            "1\n",
            "2\n",
            "3\n",
            "5\n",
            "8\n",
            "13\n",
            "21\n",
            "34\n",
            "55\n",
            "89\n",
            "144\n",
            "233\n",
            "377\n",
            "610\n",
            "987\n",
            "1597\n",
            "2584\n",
            "4181\n"
          ]
        }
      ],
      "source": [
        "prev2 = 0\n",
        "prev1 = 1\n",
        "\n",
        "print(prev2)\n",
        "print(prev1)\n",
        "for fibo in range(18):\n",
        "    newFibo = prev1 + prev2\n",
        "    print(newFibo)\n",
        "    prev2 = prev1\n",
        "    prev1 = newFibo\n",
        "\n",
        "#Python"
      ]
    },
    {
      "cell_type": "code",
      "source": [],
      "metadata": {
        "id": "0VydHO80EPCy"
      },
      "execution_count": null,
      "outputs": []
    },
    {
      "cell_type": "code",
      "source": [
        "my_array = [7, 12, 9, 4, 11]\n",
        "print( my_array[0])"
      ],
      "metadata": {
        "colab": {
          "base_uri": "https://localhost:8080/"
        },
        "id": "-zQhxu1DEQ7j",
        "outputId": "c47d6ef9-b1e3-4794-817c-7620f193a1fb"
      },
      "execution_count": 6,
      "outputs": [
        {
          "output_type": "stream",
          "name": "stdout",
          "text": [
            "7\n"
          ]
        }
      ]
    },
    {
      "cell_type": "code",
      "source": [
        "my_array = [64, 34, 25, 12, 22, 11, 90, 5]\n",
        "\n",
        "n = len(my_array)\n",
        "for i in range(n-1):\n",
        "  for j in range(n-i-1):\n",
        "    if my_array[j] > my_array[j+1]:\n",
        "      my_array[j], my_array[j+1] = my_array[j+1], my_array[j]\n",
        "\n",
        "print(\"Sorted array:\", my_array)"
      ],
      "metadata": {
        "colab": {
          "base_uri": "https://localhost:8080/"
        },
        "id": "pVVsSzYWEtDE",
        "outputId": "507bd59e-49fc-41fb-f437-d2286baa5992"
      },
      "execution_count": 9,
      "outputs": [
        {
          "output_type": "stream",
          "name": "stdout",
          "text": [
            "Sorted array: [5, 11, 12, 22, 25, 34, 64, 90]\n"
          ]
        }
      ]
    },
    {
      "cell_type": "code",
      "source": [
        "my_array = [7, 3, 9, 12, 11]\n",
        "\n",
        "n = len(my_array)\n",
        "for i in range(n - 1):\n",
        "  swapped = False\n",
        "  for j in range(n-1-1):\n",
        "    if my_array[j] > my_array[j+1]:\n",
        "      my_array[j], my_array[j+1] = my_array[j+1], my_array[j]\n",
        "      swapped = True\n",
        "    if not swapped:\n",
        "      break\n",
        "\n",
        "print(\"Sorted array:\", my_array)"
      ],
      "metadata": {
        "colab": {
          "base_uri": "https://localhost:8080/"
        },
        "id": "6STAJT2PFII9",
        "outputId": "b3aa844d-b297-4c02-a219-c091f31fb9bf"
      },
      "execution_count": 10,
      "outputs": [
        {
          "output_type": "stream",
          "name": "stdout",
          "text": [
            "Sorted array: [3, 7, 9, 12, 11]\n"
          ]
        }
      ]
    },
    {
      "cell_type": "code",
      "source": [
        "my_array = [64, 34, 25, 5, 22, 11, 90, 12]\n",
        "\n",
        "n = len(my_array)\n",
        "for i in range(n-1):\n",
        "  min_index = i\n",
        "  for j in range(i+1, n):\n",
        "    if my_array[j] < my_array[min_index]:\n",
        "      min_index = j\n",
        "    min_value = my_array.pop(min_index)\n",
        "    my_array.insert(i, min_value)\n",
        "\n",
        "print(\"Sorted array:\", my_array)"
      ],
      "metadata": {
        "colab": {
          "base_uri": "https://localhost:8080/"
        },
        "id": "TPFeocm0Hggn",
        "outputId": "ee5c15b6-2b09-4f03-9397-b51c837b256b"
      },
      "execution_count": 11,
      "outputs": [
        {
          "output_type": "stream",
          "name": "stdout",
          "text": [
            "Sorted array: [12, 64, 34, 11, 5, 22, 25, 90]\n"
          ]
        }
      ]
    },
    {
      "cell_type": "code",
      "source": [
        "my_array = [64, 34, 25, 12, 22, 11, 90, 5]\n",
        "\n",
        "n = len(my_array)\n",
        "for i in range(n):\n",
        "    min_index = i\n",
        "    for j in range(i+1, n):\n",
        "        if my_array[j] < my_array[min_index]:\n",
        "            min_index = j\n",
        "    my_array[i], my_array[min_index] = my_array[min_index], my_array[i]\n",
        "\n",
        "print(\"Sorted array:\", my_array)"
      ],
      "metadata": {
        "colab": {
          "base_uri": "https://localhost:8080/"
        },
        "id": "YO0Br07xIF_q",
        "outputId": "5f2edaea-5de2-4b7b-fc53-be182a5d1f72"
      },
      "execution_count": 12,
      "outputs": [
        {
          "output_type": "stream",
          "name": "stdout",
          "text": [
            "Sorted array: [5, 11, 12, 22, 25, 34, 64, 90]\n"
          ]
        }
      ]
    },
    {
      "cell_type": "code",
      "source": [
        "my_array = [64, 34, 25, 12, 22, 11, 90, 5]\n",
        "\n",
        "n = len(my_array)\n",
        "for i in range(1,n):\n",
        "    insert_index = i\n",
        "    current_value = my_array.pop(i)\n",
        "    for j in range(i-1, -1, -1):\n",
        "        if my_array[j] > current_value:\n",
        "            insert_index = j\n",
        "    my_array.insert(insert_index, current_value)\n",
        "\n",
        "print(\"Sorted array:\", my_array)\n"
      ],
      "metadata": {
        "colab": {
          "base_uri": "https://localhost:8080/"
        },
        "id": "n_-yPBRlIWYG",
        "outputId": "e42a4605-f05b-4cf6-be6f-d891310737cb"
      },
      "execution_count": 14,
      "outputs": [
        {
          "output_type": "stream",
          "name": "stdout",
          "text": [
            "Sorted array: [5, 11, 12, 22, 25, 34, 64, 90]\n"
          ]
        }
      ]
    },
    {
      "cell_type": "code",
      "source": [
        "my_array = [64, 34, 25, 12, 22, 11, 90, 5]\n",
        "\n",
        "n = len(my_array)\n",
        "for i in range(1,n):\n",
        "    insert_index = i\n",
        "    current_value = my_array[i]\n",
        "    for j in range(i-1, -1, -1):\n",
        "        if my_array[j] > current_value:\n",
        "            my_array[j+1] = my_array[j]\n",
        "            insert_index = j\n",
        "        else:\n",
        "            break\n",
        "    my_array[insert_index] = current_value\n",
        "\n",
        "print(\"Sorted array:\", my_array)"
      ],
      "metadata": {
        "colab": {
          "base_uri": "https://localhost:8080/"
        },
        "id": "2pwxxLKrIawF",
        "outputId": "4595ea83-ff93-483a-b246-517c6b64d912"
      },
      "execution_count": 15,
      "outputs": [
        {
          "output_type": "stream",
          "name": "stdout",
          "text": [
            "Sorted array: [5, 11, 12, 22, 25, 34, 64, 90]\n"
          ]
        }
      ]
    },
    {
      "cell_type": "markdown",
      "source": [],
      "metadata": {
        "id": "lQOUNTbfEVji"
      }
    },
    {
      "cell_type": "code",
      "source": [
        "print(0)\n",
        "print(1)\n",
        "count = 2\n",
        "\n",
        "def fibonacci(prev1, prev2):\n",
        "    global count\n",
        "    if count <= 19:\n",
        "        newFibo = prev1 + prev2\n",
        "        print(newFibo)\n",
        "        prev2 = prev1\n",
        "        prev1 = newFibo\n",
        "        count += 1\n",
        "        fibonacci(prev1, prev2)\n",
        "    else:\n",
        "        return\n",
        "\n",
        "fibonacci(1,0)\n",
        "\n",
        "#Python"
      ],
      "metadata": {
        "colab": {
          "base_uri": "https://localhost:8080/"
        },
        "id": "-SBzxbM4_dbH",
        "outputId": "50765bd2-5d0a-449b-bb2b-52f9ca2d017b"
      },
      "execution_count": null,
      "outputs": [
        {
          "output_type": "stream",
          "name": "stdout",
          "text": [
            "0\n",
            "1\n",
            "1\n",
            "2\n",
            "3\n",
            "5\n",
            "8\n",
            "13\n",
            "21\n",
            "34\n",
            "55\n",
            "89\n",
            "144\n",
            "233\n",
            "377\n",
            "610\n",
            "987\n",
            "1597\n",
            "2584\n",
            "4181\n"
          ]
        }
      ]
    },
    {
      "cell_type": "code",
      "source": [
        "def partition(array, low, high):\n",
        "    pivot = array[high]\n",
        "    i = low - 1\n",
        "\n",
        "    for j in range(low, high):\n",
        "        if array[j] <= pivot:\n",
        "            i += 1\n",
        "            array[i], array[j] = array[j], array[i]\n",
        "\n",
        "    array[i+1], array[high] = array[high], array[i+1]\n",
        "    return i+1\n",
        "\n",
        "def quicksort(array, low=0, high=None):\n",
        "    if high is None:\n",
        "        high = len(array) - 1\n",
        "\n",
        "    if low < high:\n",
        "        pivot_index = partition(array, low, high)\n",
        "        quicksort(array, low, pivot_index-1)\n",
        "        quicksort(array, pivot_index+1, high)\n",
        "\n",
        "my_array = [64, 34, 25, 12, 22, 11, 90, 5]\n",
        "quicksort(my_array)\n",
        "print(\"Sorted array:\", my_array)\n"
      ],
      "metadata": {
        "colab": {
          "base_uri": "https://localhost:8080/"
        },
        "id": "TPZT6fdVIxkz",
        "outputId": "f97a8355-6815-4a5c-e5a5-4c34364d6f6c"
      },
      "execution_count": 17,
      "outputs": [
        {
          "output_type": "stream",
          "name": "stdout",
          "text": [
            "Sorted array: [5, 11, 12, 22, 25, 34, 64, 90]\n"
          ]
        }
      ]
    },
    {
      "cell_type": "code",
      "source": [
        "def countingSort(arr):\n",
        "  max_val = max(arr)\n",
        "  count = [0] * (max_val + 1)\n",
        "\n",
        "  while len(arr) > 0:\n",
        "    num = arr.pop(0)\n",
        "    count[num] += 1\n",
        "\n",
        "  for i in range(len(count)):\n",
        "    while count[i] > 0:\n",
        "      arr.append(i)\n",
        "      count[i] -= 1\n",
        "  return arr\n",
        "\n",
        "unsortedArr = [4, 2, 2, 6, 3, 3, 1, 6, 5, 2, 3]\n",
        "sortedArr = countingSort(unsortedArr)\n",
        "print(\"Sorted array:\", sortedArr)"
      ],
      "metadata": {
        "colab": {
          "base_uri": "https://localhost:8080/"
        },
        "id": "LaE3bbdIJJeM",
        "outputId": "bd59a757-a197-4010-aa84-157a5f363638"
      },
      "execution_count": 24,
      "outputs": [
        {
          "output_type": "stream",
          "name": "stdout",
          "text": [
            "Sorted array: [1, 2, 2, 2, 3, 3, 3, 4, 5, 6, 6]\n"
          ]
        }
      ]
    },
    {
      "cell_type": "code",
      "source": [
        "myArray = [170, 45, 75, 90, 802, 24, 2, 66]\n",
        "print(\"Original array:\", myArray)\n",
        "radixArray = [[], [], [], [], [], [], [], [], [], []]\n",
        "maxVal = max(myArray)\n",
        "exp = 1\n",
        "\n",
        "while maxVal // exp > 0:\n",
        "\n",
        "  while len(myArray) > 0:\n",
        "    val = myArray.pop()\n",
        "    radixIndex = (val // exp) % 10\n",
        "    radixArray[radixIndex].append(val)\n",
        "\n",
        "  for bucket in radixArray:\n",
        "    while len(bucket) > 0:\n",
        "      myArray.append(val)\n",
        "\n",
        "  exp *= 10\n",
        "\n",
        "print(\"Sorted array:\", myArray)\n"
      ],
      "metadata": {
        "colab": {
          "base_uri": "https://localhost:8080/"
        },
        "id": "O6XE7M8VKjN2",
        "outputId": "bdd9a1e5-e35a-405b-a979-d79c6df0f6c2"
      },
      "execution_count": null,
      "outputs": [
        {
          "output_type": "stream",
          "name": "stdout",
          "text": [
            "Original array: [170, 45, 75, 90, 802, 24, 2, 66]\n"
          ]
        }
      ]
    },
    {
      "cell_type": "code",
      "source": [
        "def bubbleSort(arr):\n",
        "    n = len(arr)\n",
        "    for i in range(n):\n",
        "        for j in range(0, n - i - 1):\n",
        "            if arr[j] > arr[j + 1]:\n",
        "                arr[j], arr[j + 1] = arr[j + 1], arr[j]\n",
        "\n",
        "def radixSortWithBubbleSort(arr):\n",
        "    max_val = max(arr)\n",
        "    exp = 1\n",
        "\n",
        "    while max_val // exp > 0:\n",
        "        radixArray = [[],[],[],[],[],[],[],[],[],[]]\n",
        "\n",
        "        for num in arr:\n",
        "            radixIndex = (num // exp) % 10\n",
        "            radixArray[radixIndex].append(num)\n",
        "\n",
        "        for bucket in radixArray:\n",
        "            bubbleSort(bucket)\n",
        "\n",
        "        i = 0\n",
        "        for bucket in radixArray:\n",
        "            for num in bucket:\n",
        "                arr[i] = num\n",
        "                i += 1\n",
        "\n",
        "        exp *= 10\n",
        "\n",
        "myArray = [170, 45, 75, 90, 802, 24, 2, 66]\n",
        "print(\"Original array:\", myArray)\n",
        "radixSortWithBubbleSort(myArray)\n",
        "print(\"Sorted array:\", myArray)"
      ],
      "metadata": {
        "id": "a7ygin2BLYsL"
      },
      "execution_count": null,
      "outputs": []
    },
    {
      "cell_type": "code",
      "source": [
        "def F(n):\n",
        "    if n <= 1:\n",
        "        return n\n",
        "    else:\n",
        "        return F(n - 1) + F(n - 2)\n",
        "\n",
        "print(F(19))\n",
        "\n",
        "#Python"
      ],
      "metadata": {
        "colab": {
          "base_uri": "https://localhost:8080/"
        },
        "id": "Er_Tv84i_pdO",
        "outputId": "893ac106-d95c-441d-cc7a-e6d307bc6c8e"
      },
      "execution_count": 23,
      "outputs": [
        {
          "output_type": "stream",
          "name": "stdout",
          "text": [
            "4181\n"
          ]
        }
      ]
    },
    {
      "cell_type": "code",
      "source": [
        "my_array = [7, 12, 9, 4, 11]\n",
        "minVal = my_array[0]\n",
        "\n",
        "for i in my_array:\n",
        "    if i < minVal:\n",
        "        minVal = i\n",
        "\n",
        "print('Lowest value:',minVal)\n",
        "\n",
        "#Python"
      ],
      "metadata": {
        "colab": {
          "base_uri": "https://localhost:8080/"
        },
        "id": "YgOARZV5AF0z",
        "outputId": "8620f87b-4874-4c23-bc07-c7c0c70f1bbf"
      },
      "execution_count": null,
      "outputs": [
        {
          "output_type": "stream",
          "name": "stdout",
          "text": [
            "Lowest value: 4\n"
          ]
        }
      ]
    }
  ]
}